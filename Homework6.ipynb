{
 "cells": [
  {
   "cell_type": "markdown",
   "metadata": {},
   "source": [
    "# Homework #6\n",
    "Due 10/30"
   ]
  },
  {
   "cell_type": "markdown",
   "metadata": {},
   "source": [
    "## Problem 1. Camera Calibration\n",
    "\n",
    "1) Using the checkerboard calibration method shown in class, collect a set of images and calibrate a camera.\n",
    "\n",
    "Here is a site that allows you to print some high quality boards\n",
    "https://markhedleyjones.com/projects/calibration-checkerboard-collection\n",
    "\n",
    "2) After you have you calibration file, use the functions\n",
    "cv2.getOptimalNewCameraMatrix, cv2.initUndistortRectifyMap, and cv2.remap\n",
    "to undistort an image taken with the same camera.  "
   ]
  },
  {
   "cell_type": "markdown",
   "metadata": {},
   "source": [
    "## Problem 2.  3D Computer Graphics\n",
    "\n",
    "Computer graphics is interested in the process of mapping 3D objects into 2D images.  \n",
    "\n",
    "1) Using an array containing the 8 corners on a cube, write a function to map these points into a 2D image given the set of three Euler angles and the translation vector describing the transform from the camera origin to the world coordinates of the cube.  In other words, calculate what an image of the corners of the cube would look like if photographed from a particular camera position\n",
    "\n",
    "2) Use the camera matrix from part 1 to project the corner points into the image frame \n",
    "\n",
    "3) Show a scatter plot (2D) of the projected 2D positions of the cube for two or more sets of Euler angles.  (use the equations from part 2)\n"
   ]
  },
  {
   "cell_type": "markdown",
   "metadata": {},
   "source": [
    "## Problem 3. 3D Computer Vision \n",
    "\n",
    "Problem 2 is the forward model (going from 3D to 2D to make an image), in this problem we will do the inverse model going from 2D back to 3D.\n",
    "\n",
    "1) Using your code from Problem 2, create an array of 5 (or more) points in the image space for a rotating cube (along one of the Euler angles) trajectory (e.g. at theta = {0,60,120,180,240}) \n",
    "\n",
    "2) Using the Tomasi-Kanade factorization approach, compute the Rotation (rho) and structure (X) matrices using data from part 1\n"
   ]
  },
  {
   "cell_type": "markdown",
   "metadata": {},
   "source": [
    "## Problem 4.  Essential Matrix\n",
    "\n",
    "1) Using the code from problem 2 (with no camera distortion applied), generate two sets of 2D image points. (or use two of the sets from problem 3)\n",
    "\n",
    "2) Compute the essential matrix from the two sets of corresponding points.  \n",
    "Use the code cv.findEssentialMat.  Since you already know the matches, you can skip any other registration/feature matching steps.\n",
    "\n",
    "\n"
   ]
  },
  {
   "cell_type": "markdown",
   "metadata": {},
   "source": [
    "## Problem 5. [ECE2390 students].  Epipolar lines\n",
    "\n",
    "1) Using the same camera you calibrated in problem 1, take two images of the same object.  I suggest using something that has strong features.\n",
    "\n",
    "2) Using SIFT features (cv2.SIFT_create() & sift.detectAndCompute) find matching features in the image.  You can use the cv2.FlannBasedMatcher() or the cv2.BFMatcher().\n",
    "\n",
    "3) Compute the fundemental matrix between the two images\n",
    "\n",
    "4) Using the function cv2.computeCorrespondEpilines, compute the epipolar lines for your points from one image, and draw them onto the second image\n"
   ]
  },
  {
   "cell_type": "code",
   "execution_count": null,
   "metadata": {},
   "outputs": [],
   "source": []
  }
 ],
 "metadata": {
  "language_info": {
   "name": "python"
  }
 },
 "nbformat": 4,
 "nbformat_minor": 2
}
